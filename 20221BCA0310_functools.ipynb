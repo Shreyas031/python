{
  "nbformat": 4,
  "nbformat_minor": 0,
  "metadata": {
    "colab": {
      "provenance": [],
      "authorship_tag": "ABX9TyOPET5AZiskKCTe5uLqcdqW",
      "include_colab_link": true
    },
    "kernelspec": {
      "name": "python3",
      "display_name": "Python 3"
    },
    "language_info": {
      "name": "python"
    }
  },
  "cells": [
    {
      "cell_type": "markdown",
      "metadata": {
        "id": "view-in-github",
        "colab_type": "text"
      },
      "source": [
        "<a href=\"https://colab.research.google.com/github/Shreyas031/python/blob/main/20221BCA0310_functools.ipynb\" target=\"_parent\"><img src=\"https://colab.research.google.com/assets/colab-badge.svg\" alt=\"Open In Colab\"/></a>"
      ]
    },
    {
      "cell_type": "code",
      "execution_count": 1,
      "metadata": {
        "colab": {
          "base_uri": "https://localhost:8080/"
        },
        "id": "E03NUMjBZpwx",
        "outputId": "bdab8ad2-9bad-4d6a-b34e-9c93af16a467"
      },
      "outputs": [
        {
          "output_type": "stream",
          "name": "stdout",
          "text": [
            "Sum of list1 : 36\n",
            "Maximum of list2 : xyz\n"
          ]
        }
      ],
      "source": [
        "from functools import reduce\n",
        "list1 = [7, 3, 6, 10, 2, 8]\n",
        "sum_of_list1 = reduce(lambda a, b:a + b, list1)\n",
        "\n",
        "list2 = [\"abc\", \"xyz\", \"def\"]\n",
        "max_of_list2 = reduce(lambda a, b:a if a>b else b, list2)\n",
        "\n",
        "print('Sum of list1 :', sum_of_list1)\n",
        "print('Maximum of list2 :', max_of_list2)"
      ]
    },
    {
      "cell_type": "code",
      "source": [
        "from functools import total_ordering\n",
        "\n",
        "@total_ordering\n",
        "class A:\n",
        "\tdef __init__(self, value):\n",
        "\t\tself.value = value\n",
        "\tdef __eq__(self, other):\n",
        "\t\treturn self.value == other.value\n",
        "\tdef __lt__(self, other):\n",
        "\t\treturn self.value > other.value\n",
        "print('8 > 10 :', A(8)>A(10))\n",
        "print('30 < 50 :', A(30)<A(50))\n",
        "print('2 <= 7 :', A(2)<= A(7))\n",
        "print('16 >= 10 :', A(16)>= A(10))\n",
        "print('12 == 12 :', A(12)== A(12))"
      ],
      "metadata": {
        "id": "lMnKH3IbZ7u0",
        "outputId": "1b97bce8-23e5-4318-eddd-53a0ea99ce64",
        "colab": {
          "base_uri": "https://localhost:8080/"
        }
      },
      "execution_count": 2,
      "outputs": [
        {
          "output_type": "stream",
          "name": "stdout",
          "text": [
            "8 > 10 : True\n",
            "30 < 50 : False\n",
            "2 <= 7 : False\n",
            "16 >= 10 : False\n",
            "12 == 12 : True\n"
          ]
        }
      ]
    }
  ]
}